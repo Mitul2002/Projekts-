{
 "cells": [
  {
   "cell_type": "code",
   "execution_count": 1,
   "metadata": {},
   "outputs": [],
   "source": [
    "import nbformat\n",
    "from nbconvert import PythonExporter, MarkdownExporter\n",
    "\n",
    "def convert_notebook(notebook_path, output_format=\"script\"):\n",
    "    # Load the notebook\n",
    "    with open(notebook_path, 'r', encoding='utf-8') as f:\n",
    "        nb = nbformat.read(f, as_version=4)\n",
    "    \n",
    "    # Choose the exporter based on desired output format\n",
    "    if output_format == \"script\":\n",
    "        exporter = PythonExporter()\n",
    "    elif output_format == \"markdown\":\n",
    "        exporter = MarkdownExporter()\n",
    "    else:\n",
    "        raise ValueError(\"Unsupported format. Choose 'script' or 'markdown'.\")\n",
    "    \n",
    "    # Convert the notebook\n",
    "    body, _ = exporter.from_notebook_node(nb)\n",
    "    \n",
    "    # Define the output file path based on the format\n",
    "    output_file_path = notebook_path.replace(\".ipynb\", f\".{output_format}\")\n",
    "    \n",
    "    # Write the converted content to the file\n",
    "    with open(output_file_path, 'w', encoding='utf-8') as f:\n",
    "        f.write(body)\n",
    "    print(f\"Converted {notebook_path} to {output_file_path}\")\n",
    "\n",
    "# Example usage:\n",
    "# convert_notebook(\"path_to_your_notebook.ipynb\", \"script\")  # Convert to Python script\n",
    "# convert_notebook(\"path_to_your_notebook.ipynb\", \"markdown\")  # Convert to Markdown\n"
   ]
  },
  {
   "cell_type": "code",
   "execution_count": 2,
   "metadata": {},
   "outputs": [
    {
     "name": "stdout",
     "output_type": "stream",
     "text": [
      "Converted /home/miso/Documents/this/essay/action.ipynb to /home/miso/Documents/this/essay/action.script\n"
     ]
    }
   ],
   "source": [
    "convert_notebook(\"/home/miso/Documents/this/essay/action.ipynb\", \"script\")  "
   ]
  },
  {
   "cell_type": "code",
   "execution_count": 3,
   "metadata": {},
   "outputs": [
    {
     "name": "stdout",
     "output_type": "stream",
     "text": [
      "Converted /home/miso/Documents/this/essay/clean.ipynb to /home/miso/Documents/this/essay/clean.script\n"
     ]
    }
   ],
   "source": [
    "convert_notebook(\"/home/miso/Documents/this/essay/clean.ipynb\", \"script\")  "
   ]
  },
  {
   "cell_type": "code",
   "execution_count": 5,
   "metadata": {},
   "outputs": [
    {
     "name": "stdout",
     "output_type": "stream",
     "text": [
      "Converted /home/miso/Documents/this/essay/fail.ipynb to /home/miso/Documents/this/essay/fail.script\n"
     ]
    }
   ],
   "source": [
    "convert_notebook(\"/home/miso/Documents/this/essay/fail.ipynb\", \"script\")  \n"
   ]
  },
  {
   "cell_type": "code",
   "execution_count": 6,
   "metadata": {},
   "outputs": [
    {
     "name": "stdout",
     "output_type": "stream",
     "text": [
      "Converted /home/miso/Documents/this/essay/tda.ipynb to /home/miso/Documents/this/essay/tda.script\n"
     ]
    }
   ],
   "source": [
    "convert_notebook(\"/home/miso/Documents/this/essay/tda.ipynb\", \"script\")  \n"
   ]
  },
  {
   "cell_type": "code",
   "execution_count": 10,
   "metadata": {},
   "outputs": [
    {
     "name": "stdout",
     "output_type": "stream",
     "text": [
      "Converted /home/miso/Documents/this/essay/tda.ipynb to /home/miso/Documents/this/essay/tda.markdown\n"
     ]
    }
   ],
   "source": [
    "convert_notebook(\"/home/miso/Documents/this/essay/tda.ipynb\", \"markdown\")"
   ]
  },
  {
   "cell_type": "code",
   "execution_count": null,
   "metadata": {},
   "outputs": [],
   "source": []
  }
 ],
 "metadata": {
  "kernelspec": {
   "display_name": "rap",
   "language": "python",
   "name": "python3"
  },
  "language_info": {
   "codemirror_mode": {
    "name": "ipython",
    "version": 3
   },
   "file_extension": ".py",
   "mimetype": "text/x-python",
   "name": "python",
   "nbconvert_exporter": "python",
   "pygments_lexer": "ipython3",
   "version": "3.9.19"
  }
 },
 "nbformat": 4,
 "nbformat_minor": 2
}
